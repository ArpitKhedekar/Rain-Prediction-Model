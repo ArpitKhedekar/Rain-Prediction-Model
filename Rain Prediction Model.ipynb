{
 "cells": [
  {
   "cell_type": "markdown",
   "id": "ef719f74",
   "metadata": {},
   "source": [
    "# Rain Prediction model"
   ]
  },
  {
   "cell_type": "markdown",
   "id": "80c88b3e",
   "metadata": {},
   "source": [
    "The objective is to create machine learning models encompassing data exploration, visualization, model training, and evaluation.The project also aims to build an accurate predictive model for rainfall based on diverse features given in the dataset."
   ]
  },
  {
   "cell_type": "markdown",
   "id": "cc31a9bc",
   "metadata": {},
   "source": [
    "## Importing the necessary Libraries"
   ]
  },
  {
   "cell_type": "code",
   "execution_count": 59,
   "id": "b185c4ea",
   "metadata": {},
   "outputs": [],
   "source": [
    "import pandas as pd\n",
    "import numpy as np\n",
    "import seaborn as sns\n",
    "import matplotlib.pyplot as plt\n",
    "from sklearn.model_selection import train_test_split\n",
    "from sklearn.linear_model import LogisticRegression\n",
    "from sklearn.tree import DecisionTreeClassifier\n",
    "from sklearn.ensemble import BaggingClassifier, AdaBoostClassifier, RandomForestClassifier, GradientBoostingClassifier\n",
    "from sklearn.neighbors import KNeighborsClassifier\n",
    "from sklearn.metrics import accuracy_score, confusion_matrix\n",
    "\n"
   ]
  },
  {
   "cell_type": "markdown",
   "id": "9c1268b2",
   "metadata": {},
   "source": [
    "Importing necessary libraries for data manipulation, visualization, and machine learning. These include Pandas for data handling, NumPy for numerical operations, Seaborn and Matplotlib for visualization, and various regression algorithms from scikit-learn. GridSearchCV is imported for hyperparameter tuning"
   ]
  },
  {
   "cell_type": "markdown",
   "id": "87f5f36b",
   "metadata": {},
   "source": [
    "## Data Exploration"
   ]
  },
  {
   "cell_type": "markdown",
   "id": "9dd2baaa",
   "metadata": {},
   "source": [
    "#### Loading the Datasets"
   ]
  },
  {
   "cell_type": "markdown",
   "id": "28f79d36",
   "metadata": {},
   "source": [
    "I first dowloaded the given excel files and uploaded that in my folder where this Jupyter Notebook is present.I'll be reading the excel file (\"sydney_rain prediction.xlsx\") into Pandas DataFrames: df for the main dataset."
   ]
  },
  {
   "cell_type": "code",
   "execution_count": 2,
   "id": "453f2a20",
   "metadata": {},
   "outputs": [],
   "source": [
    "df = pd.read_excel(\"sydney_rain prediction.xlsx\")"
   ]
  },
  {
   "cell_type": "markdown",
   "id": "8d48d3c6",
   "metadata": {},
   "source": [
    "let's see how our dataset looks"
   ]
  },
  {
   "cell_type": "code",
   "execution_count": 3,
   "id": "f6edd52a",
   "metadata": {},
   "outputs": [
    {
     "data": {
      "text/html": [
       "<div>\n",
       "<style scoped>\n",
       "    .dataframe tbody tr th:only-of-type {\n",
       "        vertical-align: middle;\n",
       "    }\n",
       "\n",
       "    .dataframe tbody tr th {\n",
       "        vertical-align: top;\n",
       "    }\n",
       "\n",
       "    .dataframe thead th {\n",
       "        text-align: right;\n",
       "    }\n",
       "</style>\n",
       "<table border=\"1\" class=\"dataframe\">\n",
       "  <thead>\n",
       "    <tr style=\"text-align: right;\">\n",
       "      <th></th>\n",
       "      <th>Date</th>\n",
       "      <th>Location</th>\n",
       "      <th>MinTemp</th>\n",
       "      <th>MaxTemp</th>\n",
       "      <th>Rainfall</th>\n",
       "      <th>Evaporation</th>\n",
       "      <th>Sunshine</th>\n",
       "      <th>Humidity9am</th>\n",
       "      <th>Humidity3pm</th>\n",
       "      <th>Pressure9am</th>\n",
       "      <th>Pressure3pm</th>\n",
       "      <th>Cloud9am</th>\n",
       "      <th>Cloud3pm</th>\n",
       "      <th>Temp9am</th>\n",
       "      <th>Temp3pm</th>\n",
       "      <th>RainToday</th>\n",
       "      <th>RainTomorrow</th>\n",
       "    </tr>\n",
       "  </thead>\n",
       "  <tbody>\n",
       "    <tr>\n",
       "      <th>0</th>\n",
       "      <td>2008-02-01</td>\n",
       "      <td>Sydney</td>\n",
       "      <td>19.5</td>\n",
       "      <td>22.4</td>\n",
       "      <td>15.6</td>\n",
       "      <td>6.2</td>\n",
       "      <td>0.0</td>\n",
       "      <td>92.0</td>\n",
       "      <td>84.0</td>\n",
       "      <td>1017.6</td>\n",
       "      <td>1017.4</td>\n",
       "      <td>8.0</td>\n",
       "      <td>8.0</td>\n",
       "      <td>20.7</td>\n",
       "      <td>20.9</td>\n",
       "      <td>Yes</td>\n",
       "      <td>Yes</td>\n",
       "    </tr>\n",
       "    <tr>\n",
       "      <th>1</th>\n",
       "      <td>2008-02-02</td>\n",
       "      <td>Sydney</td>\n",
       "      <td>19.5</td>\n",
       "      <td>25.6</td>\n",
       "      <td>6.0</td>\n",
       "      <td>3.4</td>\n",
       "      <td>2.7</td>\n",
       "      <td>83.0</td>\n",
       "      <td>73.0</td>\n",
       "      <td>1017.9</td>\n",
       "      <td>1016.4</td>\n",
       "      <td>7.0</td>\n",
       "      <td>7.0</td>\n",
       "      <td>22.4</td>\n",
       "      <td>24.8</td>\n",
       "      <td>Yes</td>\n",
       "      <td>Yes</td>\n",
       "    </tr>\n",
       "    <tr>\n",
       "      <th>2</th>\n",
       "      <td>2008-02-03</td>\n",
       "      <td>Sydney</td>\n",
       "      <td>21.6</td>\n",
       "      <td>24.5</td>\n",
       "      <td>6.6</td>\n",
       "      <td>2.4</td>\n",
       "      <td>0.1</td>\n",
       "      <td>88.0</td>\n",
       "      <td>86.0</td>\n",
       "      <td>1016.7</td>\n",
       "      <td>1015.6</td>\n",
       "      <td>7.0</td>\n",
       "      <td>8.0</td>\n",
       "      <td>23.5</td>\n",
       "      <td>23.0</td>\n",
       "      <td>Yes</td>\n",
       "      <td>Yes</td>\n",
       "    </tr>\n",
       "    <tr>\n",
       "      <th>3</th>\n",
       "      <td>2008-02-04</td>\n",
       "      <td>Sydney</td>\n",
       "      <td>20.2</td>\n",
       "      <td>22.8</td>\n",
       "      <td>18.8</td>\n",
       "      <td>2.2</td>\n",
       "      <td>0.0</td>\n",
       "      <td>83.0</td>\n",
       "      <td>90.0</td>\n",
       "      <td>1014.2</td>\n",
       "      <td>1011.8</td>\n",
       "      <td>8.0</td>\n",
       "      <td>8.0</td>\n",
       "      <td>21.4</td>\n",
       "      <td>20.9</td>\n",
       "      <td>Yes</td>\n",
       "      <td>Yes</td>\n",
       "    </tr>\n",
       "    <tr>\n",
       "      <th>4</th>\n",
       "      <td>2008-02-05</td>\n",
       "      <td>Sydney</td>\n",
       "      <td>19.7</td>\n",
       "      <td>25.7</td>\n",
       "      <td>77.4</td>\n",
       "      <td>NaN</td>\n",
       "      <td>0.0</td>\n",
       "      <td>88.0</td>\n",
       "      <td>74.0</td>\n",
       "      <td>1008.3</td>\n",
       "      <td>1004.8</td>\n",
       "      <td>8.0</td>\n",
       "      <td>8.0</td>\n",
       "      <td>22.5</td>\n",
       "      <td>25.5</td>\n",
       "      <td>Yes</td>\n",
       "      <td>Yes</td>\n",
       "    </tr>\n",
       "  </tbody>\n",
       "</table>\n",
       "</div>"
      ],
      "text/plain": [
       "        Date Location  MinTemp  MaxTemp  Rainfall  Evaporation  Sunshine  \\\n",
       "0 2008-02-01   Sydney     19.5     22.4      15.6          6.2       0.0   \n",
       "1 2008-02-02   Sydney     19.5     25.6       6.0          3.4       2.7   \n",
       "2 2008-02-03   Sydney     21.6     24.5       6.6          2.4       0.1   \n",
       "3 2008-02-04   Sydney     20.2     22.8      18.8          2.2       0.0   \n",
       "4 2008-02-05   Sydney     19.7     25.7      77.4          NaN       0.0   \n",
       "\n",
       "   Humidity9am  Humidity3pm  Pressure9am  Pressure3pm  Cloud9am  Cloud3pm  \\\n",
       "0         92.0         84.0       1017.6       1017.4       8.0       8.0   \n",
       "1         83.0         73.0       1017.9       1016.4       7.0       7.0   \n",
       "2         88.0         86.0       1016.7       1015.6       7.0       8.0   \n",
       "3         83.0         90.0       1014.2       1011.8       8.0       8.0   \n",
       "4         88.0         74.0       1008.3       1004.8       8.0       8.0   \n",
       "\n",
       "   Temp9am  Temp3pm RainToday RainTomorrow  \n",
       "0     20.7     20.9       Yes          Yes  \n",
       "1     22.4     24.8       Yes          Yes  \n",
       "2     23.5     23.0       Yes          Yes  \n",
       "3     21.4     20.9       Yes          Yes  \n",
       "4     22.5     25.5       Yes          Yes  "
      ]
     },
     "execution_count": 3,
     "metadata": {},
     "output_type": "execute_result"
    }
   ],
   "source": [
    "df.head()"
   ]
  },
  {
   "cell_type": "markdown",
   "id": "b0c97630",
   "metadata": {},
   "source": [
    "Let's find the number of rows, and the number of columns in the DataFrame."
   ]
  },
  {
   "cell_type": "code",
   "execution_count": 4,
   "id": "22f0cad1",
   "metadata": {},
   "outputs": [
    {
     "data": {
      "text/plain": [
       "(3337, 17)"
      ]
     },
     "execution_count": 4,
     "metadata": {},
     "output_type": "execute_result"
    }
   ],
   "source": [
    "df.shape"
   ]
  },
  {
   "cell_type": "markdown",
   "id": "4a5a8053",
   "metadata": {},
   "source": [
    "It shows that the DataFrame has '3337' rows and '17' columns."
   ]
  },
  {
   "cell_type": "markdown",
   "id": "c580b7ab",
   "metadata": {},
   "source": [
    "## Feature Engineering"
   ]
  },
  {
   "cell_type": "markdown",
   "id": "a773e309",
   "metadata": {},
   "source": [
    "The \"Location\" column was dropped as it contained only one unique value, offering no variability or meaningful information for predictive modeling, making it irrelevant for the analysis."
   ]
  },
  {
   "cell_type": "code",
   "execution_count": 5,
   "id": "316b3d83",
   "metadata": {},
   "outputs": [],
   "source": [
    "if 'Location' in df.columns:\n",
    "    df = df.drop(['Location'], axis=1)\n"
   ]
  },
  {
   "cell_type": "markdown",
   "id": "854d50f8",
   "metadata": {},
   "source": [
    "Let's drop duplicate values. If there are identical rows in the dataset, this operation retains only the first occurrence of each unique row and discards subsequent duplicates. It helps ensure the DataFrame contains only distinct rows, potentially improving the integrity of the data for analysis or modeling."
   ]
  },
  {
   "cell_type": "code",
   "execution_count": 9,
   "id": "38da6ba0",
   "metadata": {},
   "outputs": [],
   "source": [
    "df = df.drop_duplicates()"
   ]
  },
  {
   "cell_type": "markdown",
   "id": "2d815d71",
   "metadata": {},
   "source": [
    "Let's Display a concise summary of the information about the DataFrame df. It provides details such as the number of non-null entries, data types, and memory usage for each column. This helps in understanding the structure and completeness of the dataset."
   ]
  },
  {
   "cell_type": "code",
   "execution_count": 10,
   "id": "aee6b194",
   "metadata": {},
   "outputs": [
    {
     "name": "stdout",
     "output_type": "stream",
     "text": [
      "<class 'pandas.core.frame.DataFrame'>\n",
      "Int64Index: 3337 entries, 0 to 3336\n",
      "Data columns (total 16 columns):\n",
      " #   Column        Non-Null Count  Dtype         \n",
      "---  ------        --------------  -----         \n",
      " 0   Date          3337 non-null   datetime64[ns]\n",
      " 1   MinTemp       3334 non-null   float64       \n",
      " 2   MaxTemp       3335 non-null   float64       \n",
      " 3   Rainfall      3331 non-null   float64       \n",
      " 4   Evaporation   3286 non-null   float64       \n",
      " 5   Sunshine      3321 non-null   float64       \n",
      " 6   Humidity9am   3323 non-null   float64       \n",
      " 7   Humidity3pm   3324 non-null   float64       \n",
      " 8   Pressure9am   3317 non-null   float64       \n",
      " 9   Pressure3pm   3318 non-null   float64       \n",
      " 10  Cloud9am      2771 non-null   float64       \n",
      " 11  Cloud3pm      2776 non-null   float64       \n",
      " 12  Temp9am       3333 non-null   float64       \n",
      " 13  Temp3pm       3333 non-null   float64       \n",
      " 14  RainToday     3331 non-null   object        \n",
      " 15  RainTomorrow  3337 non-null   object        \n",
      "dtypes: datetime64[ns](1), float64(13), object(2)\n",
      "memory usage: 443.2+ KB\n"
     ]
    }
   ],
   "source": [
    "df.info()"
   ]
  },
  {
   "cell_type": "markdown",
   "id": "af30aa7a",
   "metadata": {},
   "source": [
    "The count for all the columns is not same.So we'll count the number of missing values (NaN) in each column of the DataFrame df"
   ]
  },
  {
   "cell_type": "code",
   "execution_count": 8,
   "id": "3acf363b",
   "metadata": {},
   "outputs": [
    {
     "data": {
      "text/plain": [
       "Date              0\n",
       "MinTemp           3\n",
       "MaxTemp           2\n",
       "Rainfall          6\n",
       "Evaporation      51\n",
       "Sunshine         16\n",
       "Humidity9am      14\n",
       "Humidity3pm      13\n",
       "Pressure9am      20\n",
       "Pressure3pm      19\n",
       "Cloud9am        566\n",
       "Cloud3pm        561\n",
       "Temp9am           4\n",
       "Temp3pm           4\n",
       "RainToday         6\n",
       "RainTomorrow      0\n",
       "dtype: int64"
      ]
     },
     "execution_count": 8,
     "metadata": {},
     "output_type": "execute_result"
    }
   ],
   "source": [
    "df.isnull().sum()"
   ]
  },
  {
   "cell_type": "markdown",
   "id": "264b59e4",
   "metadata": {},
   "source": [
    "This shows that many columns have missing values."
   ]
  },
  {
   "cell_type": "code",
   "execution_count": 8,
   "id": "81ca730a",
   "metadata": {},
   "outputs": [
    {
     "data": {
      "text/html": [
       "<div>\n",
       "<style scoped>\n",
       "    .dataframe tbody tr th:only-of-type {\n",
       "        vertical-align: middle;\n",
       "    }\n",
       "\n",
       "    .dataframe tbody tr th {\n",
       "        vertical-align: top;\n",
       "    }\n",
       "\n",
       "    .dataframe thead th {\n",
       "        text-align: right;\n",
       "    }\n",
       "</style>\n",
       "<table border=\"1\" class=\"dataframe\">\n",
       "  <thead>\n",
       "    <tr style=\"text-align: right;\">\n",
       "      <th></th>\n",
       "      <th>MinTemp</th>\n",
       "      <th>MaxTemp</th>\n",
       "      <th>Rainfall</th>\n",
       "      <th>Evaporation</th>\n",
       "      <th>Sunshine</th>\n",
       "      <th>Humidity9am</th>\n",
       "      <th>Humidity3pm</th>\n",
       "      <th>Pressure9am</th>\n",
       "      <th>Pressure3pm</th>\n",
       "      <th>Cloud9am</th>\n",
       "      <th>Cloud3pm</th>\n",
       "      <th>Temp9am</th>\n",
       "      <th>Temp3pm</th>\n",
       "    </tr>\n",
       "  </thead>\n",
       "  <tbody>\n",
       "    <tr>\n",
       "      <th>count</th>\n",
       "      <td>3334.000000</td>\n",
       "      <td>3335.000000</td>\n",
       "      <td>3331.000000</td>\n",
       "      <td>3286.000000</td>\n",
       "      <td>3321.000000</td>\n",
       "      <td>3323.000000</td>\n",
       "      <td>3324.000000</td>\n",
       "      <td>3317.000000</td>\n",
       "      <td>3318.000000</td>\n",
       "      <td>2771.000000</td>\n",
       "      <td>2776.000000</td>\n",
       "      <td>3333.000000</td>\n",
       "      <td>3333.000000</td>\n",
       "    </tr>\n",
       "    <tr>\n",
       "      <th>mean</th>\n",
       "      <td>14.865057</td>\n",
       "      <td>23.002339</td>\n",
       "      <td>3.330231</td>\n",
       "      <td>5.187432</td>\n",
       "      <td>7.179374</td>\n",
       "      <td>68.229010</td>\n",
       "      <td>54.699158</td>\n",
       "      <td>1018.346156</td>\n",
       "      <td>1016.018774</td>\n",
       "      <td>4.181523</td>\n",
       "      <td>4.218660</td>\n",
       "      <td>17.819742</td>\n",
       "      <td>21.533333</td>\n",
       "    </tr>\n",
       "    <tr>\n",
       "      <th>std</th>\n",
       "      <td>4.553641</td>\n",
       "      <td>4.494638</td>\n",
       "      <td>9.895172</td>\n",
       "      <td>2.777407</td>\n",
       "      <td>3.810886</td>\n",
       "      <td>15.085355</td>\n",
       "      <td>16.293530</td>\n",
       "      <td>7.021571</td>\n",
       "      <td>7.032211</td>\n",
       "      <td>2.749578</td>\n",
       "      <td>2.641885</td>\n",
       "      <td>4.897177</td>\n",
       "      <td>4.303737</td>\n",
       "    </tr>\n",
       "    <tr>\n",
       "      <th>min</th>\n",
       "      <td>4.300000</td>\n",
       "      <td>11.700000</td>\n",
       "      <td>0.000000</td>\n",
       "      <td>0.000000</td>\n",
       "      <td>0.000000</td>\n",
       "      <td>19.000000</td>\n",
       "      <td>10.000000</td>\n",
       "      <td>986.700000</td>\n",
       "      <td>989.800000</td>\n",
       "      <td>0.000000</td>\n",
       "      <td>0.000000</td>\n",
       "      <td>6.400000</td>\n",
       "      <td>10.200000</td>\n",
       "    </tr>\n",
       "    <tr>\n",
       "      <th>25%</th>\n",
       "      <td>11.000000</td>\n",
       "      <td>19.600000</td>\n",
       "      <td>0.000000</td>\n",
       "      <td>3.200000</td>\n",
       "      <td>4.300000</td>\n",
       "      <td>58.000000</td>\n",
       "      <td>44.000000</td>\n",
       "      <td>1013.700000</td>\n",
       "      <td>1011.300000</td>\n",
       "      <td>1.000000</td>\n",
       "      <td>1.000000</td>\n",
       "      <td>13.800000</td>\n",
       "      <td>18.400000</td>\n",
       "    </tr>\n",
       "    <tr>\n",
       "      <th>50%</th>\n",
       "      <td>14.900000</td>\n",
       "      <td>22.800000</td>\n",
       "      <td>0.000000</td>\n",
       "      <td>4.800000</td>\n",
       "      <td>8.300000</td>\n",
       "      <td>69.000000</td>\n",
       "      <td>56.000000</td>\n",
       "      <td>1018.600000</td>\n",
       "      <td>1016.300000</td>\n",
       "      <td>5.000000</td>\n",
       "      <td>4.000000</td>\n",
       "      <td>18.200000</td>\n",
       "      <td>21.300000</td>\n",
       "    </tr>\n",
       "    <tr>\n",
       "      <th>75%</th>\n",
       "      <td>18.700000</td>\n",
       "      <td>26.000000</td>\n",
       "      <td>1.400000</td>\n",
       "      <td>7.000000</td>\n",
       "      <td>10.200000</td>\n",
       "      <td>80.000000</td>\n",
       "      <td>65.000000</td>\n",
       "      <td>1023.100000</td>\n",
       "      <td>1020.800000</td>\n",
       "      <td>7.000000</td>\n",
       "      <td>7.000000</td>\n",
       "      <td>21.700000</td>\n",
       "      <td>24.500000</td>\n",
       "    </tr>\n",
       "    <tr>\n",
       "      <th>max</th>\n",
       "      <td>27.600000</td>\n",
       "      <td>45.800000</td>\n",
       "      <td>119.400000</td>\n",
       "      <td>18.400000</td>\n",
       "      <td>13.600000</td>\n",
       "      <td>100.000000</td>\n",
       "      <td>99.000000</td>\n",
       "      <td>1039.000000</td>\n",
       "      <td>1036.700000</td>\n",
       "      <td>9.000000</td>\n",
       "      <td>8.000000</td>\n",
       "      <td>36.500000</td>\n",
       "      <td>44.700000</td>\n",
       "    </tr>\n",
       "  </tbody>\n",
       "</table>\n",
       "</div>"
      ],
      "text/plain": [
       "           MinTemp      MaxTemp     Rainfall  Evaporation     Sunshine  \\\n",
       "count  3334.000000  3335.000000  3331.000000  3286.000000  3321.000000   \n",
       "mean     14.865057    23.002339     3.330231     5.187432     7.179374   \n",
       "std       4.553641     4.494638     9.895172     2.777407     3.810886   \n",
       "min       4.300000    11.700000     0.000000     0.000000     0.000000   \n",
       "25%      11.000000    19.600000     0.000000     3.200000     4.300000   \n",
       "50%      14.900000    22.800000     0.000000     4.800000     8.300000   \n",
       "75%      18.700000    26.000000     1.400000     7.000000    10.200000   \n",
       "max      27.600000    45.800000   119.400000    18.400000    13.600000   \n",
       "\n",
       "       Humidity9am  Humidity3pm  Pressure9am  Pressure3pm     Cloud9am  \\\n",
       "count  3323.000000  3324.000000  3317.000000  3318.000000  2771.000000   \n",
       "mean     68.229010    54.699158  1018.346156  1016.018774     4.181523   \n",
       "std      15.085355    16.293530     7.021571     7.032211     2.749578   \n",
       "min      19.000000    10.000000   986.700000   989.800000     0.000000   \n",
       "25%      58.000000    44.000000  1013.700000  1011.300000     1.000000   \n",
       "50%      69.000000    56.000000  1018.600000  1016.300000     5.000000   \n",
       "75%      80.000000    65.000000  1023.100000  1020.800000     7.000000   \n",
       "max     100.000000    99.000000  1039.000000  1036.700000     9.000000   \n",
       "\n",
       "          Cloud3pm      Temp9am      Temp3pm  \n",
       "count  2776.000000  3333.000000  3333.000000  \n",
       "mean      4.218660    17.819742    21.533333  \n",
       "std       2.641885     4.897177     4.303737  \n",
       "min       0.000000     6.400000    10.200000  \n",
       "25%       1.000000    13.800000    18.400000  \n",
       "50%       4.000000    18.200000    21.300000  \n",
       "75%       7.000000    21.700000    24.500000  \n",
       "max       8.000000    36.500000    44.700000  "
      ]
     },
     "execution_count": 8,
     "metadata": {},
     "output_type": "execute_result"
    }
   ],
   "source": [
    "df.describe()"
   ]
  },
  {
   "cell_type": "markdown",
   "id": "fe7f5aeb",
   "metadata": {},
   "source": [
    "We have observed a large number of missing values. Since the number of missing records is high, deleting the records might result in loss of valuable information.Therefore we will be using forwardfill to fill missing values in the DataFrame df.This means that each missing value is replaced with the most recent non-missing value in the same column.Assuming the dataset has a temporal order, using forward-fill helps maintain the sequential structure of the data ."
   ]
  },
  {
   "cell_type": "code",
   "execution_count": 13,
   "id": "87826627",
   "metadata": {},
   "outputs": [],
   "source": [
    "df= df.fillna(df.fillna(method='ffill'))"
   ]
  },
  {
   "cell_type": "markdown",
   "id": "05221911",
   "metadata": {},
   "source": [
    "Now Let's see if still there are any missing values left"
   ]
  },
  {
   "cell_type": "code",
   "execution_count": 14,
   "id": "62531f3c",
   "metadata": {},
   "outputs": [
    {
     "name": "stdout",
     "output_type": "stream",
     "text": [
      "Date            0\n",
      "MinTemp         0\n",
      "MaxTemp         0\n",
      "Rainfall        0\n",
      "Evaporation     0\n",
      "Sunshine        0\n",
      "Humidity9am     0\n",
      "Humidity3pm     0\n",
      "Pressure9am     0\n",
      "Pressure3pm     0\n",
      "Cloud9am        0\n",
      "Cloud3pm        0\n",
      "Temp9am         0\n",
      "Temp3pm         0\n",
      "RainToday       0\n",
      "RainTomorrow    0\n",
      "dtype: int64\n"
     ]
    }
   ],
   "source": [
    "print(df.isnull().sum())"
   ]
  },
  {
   "cell_type": "markdown",
   "id": "22dd810d",
   "metadata": {},
   "source": [
    "Hence, we have filled all the missing values."
   ]
  },
  {
   "cell_type": "code",
   "execution_count": 14,
   "id": "b87da34f",
   "metadata": {},
   "outputs": [
    {
     "data": {
      "text/html": [
       "<div>\n",
       "<style scoped>\n",
       "    .dataframe tbody tr th:only-of-type {\n",
       "        vertical-align: middle;\n",
       "    }\n",
       "\n",
       "    .dataframe tbody tr th {\n",
       "        vertical-align: top;\n",
       "    }\n",
       "\n",
       "    .dataframe thead th {\n",
       "        text-align: right;\n",
       "    }\n",
       "</style>\n",
       "<table border=\"1\" class=\"dataframe\">\n",
       "  <thead>\n",
       "    <tr style=\"text-align: right;\">\n",
       "      <th></th>\n",
       "      <th>Date</th>\n",
       "      <th>MinTemp</th>\n",
       "      <th>MaxTemp</th>\n",
       "      <th>Rainfall</th>\n",
       "      <th>Evaporation</th>\n",
       "      <th>Sunshine</th>\n",
       "      <th>Humidity9am</th>\n",
       "      <th>Humidity3pm</th>\n",
       "      <th>Pressure9am</th>\n",
       "      <th>Pressure3pm</th>\n",
       "      <th>Cloud9am</th>\n",
       "      <th>Cloud3pm</th>\n",
       "      <th>Temp9am</th>\n",
       "      <th>Temp3pm</th>\n",
       "      <th>RainToday</th>\n",
       "      <th>RainTomorrow</th>\n",
       "    </tr>\n",
       "  </thead>\n",
       "  <tbody>\n",
       "    <tr>\n",
       "      <th>0</th>\n",
       "      <td>2008-02-01</td>\n",
       "      <td>19.5</td>\n",
       "      <td>22.4</td>\n",
       "      <td>15.6</td>\n",
       "      <td>6.2</td>\n",
       "      <td>0.0</td>\n",
       "      <td>92.0</td>\n",
       "      <td>84.0</td>\n",
       "      <td>1017.6</td>\n",
       "      <td>1017.4</td>\n",
       "      <td>8.0</td>\n",
       "      <td>8.0</td>\n",
       "      <td>20.7</td>\n",
       "      <td>20.9</td>\n",
       "      <td>Yes</td>\n",
       "      <td>Yes</td>\n",
       "    </tr>\n",
       "    <tr>\n",
       "      <th>1</th>\n",
       "      <td>2008-02-02</td>\n",
       "      <td>19.5</td>\n",
       "      <td>25.6</td>\n",
       "      <td>6.0</td>\n",
       "      <td>3.4</td>\n",
       "      <td>2.7</td>\n",
       "      <td>83.0</td>\n",
       "      <td>73.0</td>\n",
       "      <td>1017.9</td>\n",
       "      <td>1016.4</td>\n",
       "      <td>7.0</td>\n",
       "      <td>7.0</td>\n",
       "      <td>22.4</td>\n",
       "      <td>24.8</td>\n",
       "      <td>Yes</td>\n",
       "      <td>Yes</td>\n",
       "    </tr>\n",
       "    <tr>\n",
       "      <th>2</th>\n",
       "      <td>2008-02-03</td>\n",
       "      <td>21.6</td>\n",
       "      <td>24.5</td>\n",
       "      <td>6.6</td>\n",
       "      <td>2.4</td>\n",
       "      <td>0.1</td>\n",
       "      <td>88.0</td>\n",
       "      <td>86.0</td>\n",
       "      <td>1016.7</td>\n",
       "      <td>1015.6</td>\n",
       "      <td>7.0</td>\n",
       "      <td>8.0</td>\n",
       "      <td>23.5</td>\n",
       "      <td>23.0</td>\n",
       "      <td>Yes</td>\n",
       "      <td>Yes</td>\n",
       "    </tr>\n",
       "    <tr>\n",
       "      <th>3</th>\n",
       "      <td>2008-02-04</td>\n",
       "      <td>20.2</td>\n",
       "      <td>22.8</td>\n",
       "      <td>18.8</td>\n",
       "      <td>2.2</td>\n",
       "      <td>0.0</td>\n",
       "      <td>83.0</td>\n",
       "      <td>90.0</td>\n",
       "      <td>1014.2</td>\n",
       "      <td>1011.8</td>\n",
       "      <td>8.0</td>\n",
       "      <td>8.0</td>\n",
       "      <td>21.4</td>\n",
       "      <td>20.9</td>\n",
       "      <td>Yes</td>\n",
       "      <td>Yes</td>\n",
       "    </tr>\n",
       "    <tr>\n",
       "      <th>4</th>\n",
       "      <td>2008-02-05</td>\n",
       "      <td>19.7</td>\n",
       "      <td>25.7</td>\n",
       "      <td>77.4</td>\n",
       "      <td>2.2</td>\n",
       "      <td>0.0</td>\n",
       "      <td>88.0</td>\n",
       "      <td>74.0</td>\n",
       "      <td>1008.3</td>\n",
       "      <td>1004.8</td>\n",
       "      <td>8.0</td>\n",
       "      <td>8.0</td>\n",
       "      <td>22.5</td>\n",
       "      <td>25.5</td>\n",
       "      <td>Yes</td>\n",
       "      <td>Yes</td>\n",
       "    </tr>\n",
       "  </tbody>\n",
       "</table>\n",
       "</div>"
      ],
      "text/plain": [
       "        Date  MinTemp  MaxTemp  Rainfall  Evaporation  Sunshine  Humidity9am  \\\n",
       "0 2008-02-01     19.5     22.4      15.6          6.2       0.0         92.0   \n",
       "1 2008-02-02     19.5     25.6       6.0          3.4       2.7         83.0   \n",
       "2 2008-02-03     21.6     24.5       6.6          2.4       0.1         88.0   \n",
       "3 2008-02-04     20.2     22.8      18.8          2.2       0.0         83.0   \n",
       "4 2008-02-05     19.7     25.7      77.4          2.2       0.0         88.0   \n",
       "\n",
       "   Humidity3pm  Pressure9am  Pressure3pm  Cloud9am  Cloud3pm  Temp9am  \\\n",
       "0         84.0       1017.6       1017.4       8.0       8.0     20.7   \n",
       "1         73.0       1017.9       1016.4       7.0       7.0     22.4   \n",
       "2         86.0       1016.7       1015.6       7.0       8.0     23.5   \n",
       "3         90.0       1014.2       1011.8       8.0       8.0     21.4   \n",
       "4         74.0       1008.3       1004.8       8.0       8.0     22.5   \n",
       "\n",
       "   Temp3pm RainToday RainTomorrow  \n",
       "0     20.9       Yes          Yes  \n",
       "1     24.8       Yes          Yes  \n",
       "2     23.0       Yes          Yes  \n",
       "3     20.9       Yes          Yes  \n",
       "4     25.5       Yes          Yes  "
      ]
     },
     "execution_count": 14,
     "metadata": {},
     "output_type": "execute_result"
    }
   ],
   "source": [
    "df.head()"
   ]
  },
  {
   "cell_type": "markdown",
   "id": "ddbe803b",
   "metadata": {},
   "source": [
    "First, we need to convert categorical variables to binary variables. We will use pandas get_dummies() method for this."
   ]
  },
  {
   "cell_type": "code",
   "execution_count": 15,
   "id": "621bf1bf",
   "metadata": {},
   "outputs": [],
   "source": [
    "df = pd.get_dummies(df, columns=['RainToday'])"
   ]
  },
  {
   "cell_type": "code",
   "execution_count": 16,
   "id": "3c428d79",
   "metadata": {},
   "outputs": [
    {
     "data": {
      "text/html": [
       "<div>\n",
       "<style scoped>\n",
       "    .dataframe tbody tr th:only-of-type {\n",
       "        vertical-align: middle;\n",
       "    }\n",
       "\n",
       "    .dataframe tbody tr th {\n",
       "        vertical-align: top;\n",
       "    }\n",
       "\n",
       "    .dataframe thead th {\n",
       "        text-align: right;\n",
       "    }\n",
       "</style>\n",
       "<table border=\"1\" class=\"dataframe\">\n",
       "  <thead>\n",
       "    <tr style=\"text-align: right;\">\n",
       "      <th></th>\n",
       "      <th>Date</th>\n",
       "      <th>MinTemp</th>\n",
       "      <th>MaxTemp</th>\n",
       "      <th>Rainfall</th>\n",
       "      <th>Evaporation</th>\n",
       "      <th>Sunshine</th>\n",
       "      <th>Humidity9am</th>\n",
       "      <th>Humidity3pm</th>\n",
       "      <th>Pressure9am</th>\n",
       "      <th>Pressure3pm</th>\n",
       "      <th>Cloud9am</th>\n",
       "      <th>Cloud3pm</th>\n",
       "      <th>Temp9am</th>\n",
       "      <th>Temp3pm</th>\n",
       "      <th>RainTomorrow</th>\n",
       "      <th>RainToday_No</th>\n",
       "      <th>RainToday_Yes</th>\n",
       "    </tr>\n",
       "  </thead>\n",
       "  <tbody>\n",
       "    <tr>\n",
       "      <th>0</th>\n",
       "      <td>2008-02-01</td>\n",
       "      <td>19.5</td>\n",
       "      <td>22.4</td>\n",
       "      <td>15.6</td>\n",
       "      <td>6.2</td>\n",
       "      <td>0.0</td>\n",
       "      <td>92.0</td>\n",
       "      <td>84.0</td>\n",
       "      <td>1017.6</td>\n",
       "      <td>1017.4</td>\n",
       "      <td>8.0</td>\n",
       "      <td>8.0</td>\n",
       "      <td>20.7</td>\n",
       "      <td>20.9</td>\n",
       "      <td>Yes</td>\n",
       "      <td>0</td>\n",
       "      <td>1</td>\n",
       "    </tr>\n",
       "    <tr>\n",
       "      <th>1</th>\n",
       "      <td>2008-02-02</td>\n",
       "      <td>19.5</td>\n",
       "      <td>25.6</td>\n",
       "      <td>6.0</td>\n",
       "      <td>3.4</td>\n",
       "      <td>2.7</td>\n",
       "      <td>83.0</td>\n",
       "      <td>73.0</td>\n",
       "      <td>1017.9</td>\n",
       "      <td>1016.4</td>\n",
       "      <td>7.0</td>\n",
       "      <td>7.0</td>\n",
       "      <td>22.4</td>\n",
       "      <td>24.8</td>\n",
       "      <td>Yes</td>\n",
       "      <td>0</td>\n",
       "      <td>1</td>\n",
       "    </tr>\n",
       "    <tr>\n",
       "      <th>2</th>\n",
       "      <td>2008-02-03</td>\n",
       "      <td>21.6</td>\n",
       "      <td>24.5</td>\n",
       "      <td>6.6</td>\n",
       "      <td>2.4</td>\n",
       "      <td>0.1</td>\n",
       "      <td>88.0</td>\n",
       "      <td>86.0</td>\n",
       "      <td>1016.7</td>\n",
       "      <td>1015.6</td>\n",
       "      <td>7.0</td>\n",
       "      <td>8.0</td>\n",
       "      <td>23.5</td>\n",
       "      <td>23.0</td>\n",
       "      <td>Yes</td>\n",
       "      <td>0</td>\n",
       "      <td>1</td>\n",
       "    </tr>\n",
       "    <tr>\n",
       "      <th>3</th>\n",
       "      <td>2008-02-04</td>\n",
       "      <td>20.2</td>\n",
       "      <td>22.8</td>\n",
       "      <td>18.8</td>\n",
       "      <td>2.2</td>\n",
       "      <td>0.0</td>\n",
       "      <td>83.0</td>\n",
       "      <td>90.0</td>\n",
       "      <td>1014.2</td>\n",
       "      <td>1011.8</td>\n",
       "      <td>8.0</td>\n",
       "      <td>8.0</td>\n",
       "      <td>21.4</td>\n",
       "      <td>20.9</td>\n",
       "      <td>Yes</td>\n",
       "      <td>0</td>\n",
       "      <td>1</td>\n",
       "    </tr>\n",
       "    <tr>\n",
       "      <th>4</th>\n",
       "      <td>2008-02-05</td>\n",
       "      <td>19.7</td>\n",
       "      <td>25.7</td>\n",
       "      <td>77.4</td>\n",
       "      <td>2.2</td>\n",
       "      <td>0.0</td>\n",
       "      <td>88.0</td>\n",
       "      <td>74.0</td>\n",
       "      <td>1008.3</td>\n",
       "      <td>1004.8</td>\n",
       "      <td>8.0</td>\n",
       "      <td>8.0</td>\n",
       "      <td>22.5</td>\n",
       "      <td>25.5</td>\n",
       "      <td>Yes</td>\n",
       "      <td>0</td>\n",
       "      <td>1</td>\n",
       "    </tr>\n",
       "  </tbody>\n",
       "</table>\n",
       "</div>"
      ],
      "text/plain": [
       "        Date  MinTemp  MaxTemp  Rainfall  Evaporation  Sunshine  Humidity9am  \\\n",
       "0 2008-02-01     19.5     22.4      15.6          6.2       0.0         92.0   \n",
       "1 2008-02-02     19.5     25.6       6.0          3.4       2.7         83.0   \n",
       "2 2008-02-03     21.6     24.5       6.6          2.4       0.1         88.0   \n",
       "3 2008-02-04     20.2     22.8      18.8          2.2       0.0         83.0   \n",
       "4 2008-02-05     19.7     25.7      77.4          2.2       0.0         88.0   \n",
       "\n",
       "   Humidity3pm  Pressure9am  Pressure3pm  Cloud9am  Cloud3pm  Temp9am  \\\n",
       "0         84.0       1017.6       1017.4       8.0       8.0     20.7   \n",
       "1         73.0       1017.9       1016.4       7.0       7.0     22.4   \n",
       "2         86.0       1016.7       1015.6       7.0       8.0     23.5   \n",
       "3         90.0       1014.2       1011.8       8.0       8.0     21.4   \n",
       "4         74.0       1008.3       1004.8       8.0       8.0     22.5   \n",
       "\n",
       "   Temp3pm RainTomorrow  RainToday_No  RainToday_Yes  \n",
       "0     20.9          Yes             0              1  \n",
       "1     24.8          Yes             0              1  \n",
       "2     23.0          Yes             0              1  \n",
       "3     20.9          Yes             0              1  \n",
       "4     25.5          Yes             0              1  "
      ]
     },
     "execution_count": 16,
     "metadata": {},
     "output_type": "execute_result"
    }
   ],
   "source": [
    "df.head()"
   ]
  },
  {
   "cell_type": "markdown",
   "id": "e92a743c",
   "metadata": {},
   "source": [
    "Let's transform the original date information into numerical features that can be utilized by machine learning models for better understanding and prediction.We will be creating new Columns 'Year', 'Day', Month'. Also we'll be dropping the origial Date Column."
   ]
  },
  {
   "cell_type": "code",
   "execution_count": 17,
   "id": "1ea6291c",
   "metadata": {},
   "outputs": [],
   "source": [
    "# First Converting date column to datetime format\n",
    "df['Date'] = pd.to_datetime(df['Date'])\n",
    "\n",
    "# Extract year, month, and day from the date\n",
    "df['Year'] = df['Date'].dt.year\n",
    "df['Month'] = df['Date'].dt.month\n",
    "df['Day'] = df['Date'].dt.day\n",
    "\n",
    "# Droping the original date column\n",
    "df = df.drop(['Date'], axis=1)"
   ]
  },
  {
   "cell_type": "markdown",
   "id": "51b7318a",
   "metadata": {},
   "source": [
    "Now, let's see how our dataFrame looks like."
   ]
  },
  {
   "cell_type": "code",
   "execution_count": 18,
   "id": "be465633",
   "metadata": {},
   "outputs": [
    {
     "data": {
      "text/html": [
       "<div>\n",
       "<style scoped>\n",
       "    .dataframe tbody tr th:only-of-type {\n",
       "        vertical-align: middle;\n",
       "    }\n",
       "\n",
       "    .dataframe tbody tr th {\n",
       "        vertical-align: top;\n",
       "    }\n",
       "\n",
       "    .dataframe thead th {\n",
       "        text-align: right;\n",
       "    }\n",
       "</style>\n",
       "<table border=\"1\" class=\"dataframe\">\n",
       "  <thead>\n",
       "    <tr style=\"text-align: right;\">\n",
       "      <th></th>\n",
       "      <th>MinTemp</th>\n",
       "      <th>MaxTemp</th>\n",
       "      <th>Rainfall</th>\n",
       "      <th>Evaporation</th>\n",
       "      <th>Sunshine</th>\n",
       "      <th>Humidity9am</th>\n",
       "      <th>Humidity3pm</th>\n",
       "      <th>Pressure9am</th>\n",
       "      <th>Pressure3pm</th>\n",
       "      <th>Cloud9am</th>\n",
       "      <th>Cloud3pm</th>\n",
       "      <th>Temp9am</th>\n",
       "      <th>Temp3pm</th>\n",
       "      <th>RainTomorrow</th>\n",
       "      <th>RainToday_No</th>\n",
       "      <th>RainToday_Yes</th>\n",
       "      <th>Year</th>\n",
       "      <th>Month</th>\n",
       "      <th>Day</th>\n",
       "    </tr>\n",
       "  </thead>\n",
       "  <tbody>\n",
       "    <tr>\n",
       "      <th>0</th>\n",
       "      <td>19.5</td>\n",
       "      <td>22.4</td>\n",
       "      <td>15.6</td>\n",
       "      <td>6.2</td>\n",
       "      <td>0.0</td>\n",
       "      <td>92.0</td>\n",
       "      <td>84.0</td>\n",
       "      <td>1017.6</td>\n",
       "      <td>1017.4</td>\n",
       "      <td>8.0</td>\n",
       "      <td>8.0</td>\n",
       "      <td>20.7</td>\n",
       "      <td>20.9</td>\n",
       "      <td>Yes</td>\n",
       "      <td>0</td>\n",
       "      <td>1</td>\n",
       "      <td>2008</td>\n",
       "      <td>2</td>\n",
       "      <td>1</td>\n",
       "    </tr>\n",
       "    <tr>\n",
       "      <th>1</th>\n",
       "      <td>19.5</td>\n",
       "      <td>25.6</td>\n",
       "      <td>6.0</td>\n",
       "      <td>3.4</td>\n",
       "      <td>2.7</td>\n",
       "      <td>83.0</td>\n",
       "      <td>73.0</td>\n",
       "      <td>1017.9</td>\n",
       "      <td>1016.4</td>\n",
       "      <td>7.0</td>\n",
       "      <td>7.0</td>\n",
       "      <td>22.4</td>\n",
       "      <td>24.8</td>\n",
       "      <td>Yes</td>\n",
       "      <td>0</td>\n",
       "      <td>1</td>\n",
       "      <td>2008</td>\n",
       "      <td>2</td>\n",
       "      <td>2</td>\n",
       "    </tr>\n",
       "    <tr>\n",
       "      <th>2</th>\n",
       "      <td>21.6</td>\n",
       "      <td>24.5</td>\n",
       "      <td>6.6</td>\n",
       "      <td>2.4</td>\n",
       "      <td>0.1</td>\n",
       "      <td>88.0</td>\n",
       "      <td>86.0</td>\n",
       "      <td>1016.7</td>\n",
       "      <td>1015.6</td>\n",
       "      <td>7.0</td>\n",
       "      <td>8.0</td>\n",
       "      <td>23.5</td>\n",
       "      <td>23.0</td>\n",
       "      <td>Yes</td>\n",
       "      <td>0</td>\n",
       "      <td>1</td>\n",
       "      <td>2008</td>\n",
       "      <td>2</td>\n",
       "      <td>3</td>\n",
       "    </tr>\n",
       "    <tr>\n",
       "      <th>3</th>\n",
       "      <td>20.2</td>\n",
       "      <td>22.8</td>\n",
       "      <td>18.8</td>\n",
       "      <td>2.2</td>\n",
       "      <td>0.0</td>\n",
       "      <td>83.0</td>\n",
       "      <td>90.0</td>\n",
       "      <td>1014.2</td>\n",
       "      <td>1011.8</td>\n",
       "      <td>8.0</td>\n",
       "      <td>8.0</td>\n",
       "      <td>21.4</td>\n",
       "      <td>20.9</td>\n",
       "      <td>Yes</td>\n",
       "      <td>0</td>\n",
       "      <td>1</td>\n",
       "      <td>2008</td>\n",
       "      <td>2</td>\n",
       "      <td>4</td>\n",
       "    </tr>\n",
       "    <tr>\n",
       "      <th>4</th>\n",
       "      <td>19.7</td>\n",
       "      <td>25.7</td>\n",
       "      <td>77.4</td>\n",
       "      <td>2.2</td>\n",
       "      <td>0.0</td>\n",
       "      <td>88.0</td>\n",
       "      <td>74.0</td>\n",
       "      <td>1008.3</td>\n",
       "      <td>1004.8</td>\n",
       "      <td>8.0</td>\n",
       "      <td>8.0</td>\n",
       "      <td>22.5</td>\n",
       "      <td>25.5</td>\n",
       "      <td>Yes</td>\n",
       "      <td>0</td>\n",
       "      <td>1</td>\n",
       "      <td>2008</td>\n",
       "      <td>2</td>\n",
       "      <td>5</td>\n",
       "    </tr>\n",
       "  </tbody>\n",
       "</table>\n",
       "</div>"
      ],
      "text/plain": [
       "   MinTemp  MaxTemp  Rainfall  Evaporation  Sunshine  Humidity9am  \\\n",
       "0     19.5     22.4      15.6          6.2       0.0         92.0   \n",
       "1     19.5     25.6       6.0          3.4       2.7         83.0   \n",
       "2     21.6     24.5       6.6          2.4       0.1         88.0   \n",
       "3     20.2     22.8      18.8          2.2       0.0         83.0   \n",
       "4     19.7     25.7      77.4          2.2       0.0         88.0   \n",
       "\n",
       "   Humidity3pm  Pressure9am  Pressure3pm  Cloud9am  Cloud3pm  Temp9am  \\\n",
       "0         84.0       1017.6       1017.4       8.0       8.0     20.7   \n",
       "1         73.0       1017.9       1016.4       7.0       7.0     22.4   \n",
       "2         86.0       1016.7       1015.6       7.0       8.0     23.5   \n",
       "3         90.0       1014.2       1011.8       8.0       8.0     21.4   \n",
       "4         74.0       1008.3       1004.8       8.0       8.0     22.5   \n",
       "\n",
       "   Temp3pm RainTomorrow  RainToday_No  RainToday_Yes  Year  Month  Day  \n",
       "0     20.9          Yes             0              1  2008      2    1  \n",
       "1     24.8          Yes             0              1  2008      2    2  \n",
       "2     23.0          Yes             0              1  2008      2    3  \n",
       "3     20.9          Yes             0              1  2008      2    4  \n",
       "4     25.5          Yes             0              1  2008      2    5  "
      ]
     },
     "execution_count": 18,
     "metadata": {},
     "output_type": "execute_result"
    }
   ],
   "source": [
    "df.head()"
   ]
  },
  {
   "cell_type": "markdown",
   "id": "7bf59c7f",
   "metadata": {},
   "source": [
    "Now we'll replace the values of the 'RainTomorrow' column changing them from a categorical column to a binary column. We do not use the get_dummies method because we would end up with two columns for 'RainTomorrow' and we do not want, since 'RainTomorrow' is our target. Since, now only 'RainTomorrow' is object type, it is easy to replace 'No' with 0, and 'Yes' with 1."
   ]
  },
  {
   "cell_type": "code",
   "execution_count": 19,
   "id": "d66bbf89",
   "metadata": {},
   "outputs": [],
   "source": [
    "df.replace(['No', 'Yes'], [0,1], inplace=True)"
   ]
  },
  {
   "cell_type": "markdown",
   "id": "279992f2",
   "metadata": {},
   "source": [
    "Let's see how this column looks "
   ]
  },
  {
   "cell_type": "code",
   "execution_count": 20,
   "id": "a89c9631",
   "metadata": {},
   "outputs": [
    {
     "data": {
      "text/html": [
       "<div>\n",
       "<style scoped>\n",
       "    .dataframe tbody tr th:only-of-type {\n",
       "        vertical-align: middle;\n",
       "    }\n",
       "\n",
       "    .dataframe tbody tr th {\n",
       "        vertical-align: top;\n",
       "    }\n",
       "\n",
       "    .dataframe thead th {\n",
       "        text-align: right;\n",
       "    }\n",
       "</style>\n",
       "<table border=\"1\" class=\"dataframe\">\n",
       "  <thead>\n",
       "    <tr style=\"text-align: right;\">\n",
       "      <th></th>\n",
       "      <th>RainTomorrow</th>\n",
       "    </tr>\n",
       "  </thead>\n",
       "  <tbody>\n",
       "    <tr>\n",
       "      <th>0</th>\n",
       "      <td>1</td>\n",
       "    </tr>\n",
       "    <tr>\n",
       "      <th>1</th>\n",
       "      <td>1</td>\n",
       "    </tr>\n",
       "    <tr>\n",
       "      <th>2</th>\n",
       "      <td>1</td>\n",
       "    </tr>\n",
       "    <tr>\n",
       "      <th>3</th>\n",
       "      <td>1</td>\n",
       "    </tr>\n",
       "    <tr>\n",
       "      <th>4</th>\n",
       "      <td>1</td>\n",
       "    </tr>\n",
       "    <tr>\n",
       "      <th>...</th>\n",
       "      <td>...</td>\n",
       "    </tr>\n",
       "    <tr>\n",
       "      <th>3332</th>\n",
       "      <td>0</td>\n",
       "    </tr>\n",
       "    <tr>\n",
       "      <th>3333</th>\n",
       "      <td>0</td>\n",
       "    </tr>\n",
       "    <tr>\n",
       "      <th>3334</th>\n",
       "      <td>0</td>\n",
       "    </tr>\n",
       "    <tr>\n",
       "      <th>3335</th>\n",
       "      <td>0</td>\n",
       "    </tr>\n",
       "    <tr>\n",
       "      <th>3336</th>\n",
       "      <td>0</td>\n",
       "    </tr>\n",
       "  </tbody>\n",
       "</table>\n",
       "<p>3337 rows × 1 columns</p>\n",
       "</div>"
      ],
      "text/plain": [
       "      RainTomorrow\n",
       "0                1\n",
       "1                1\n",
       "2                1\n",
       "3                1\n",
       "4                1\n",
       "...            ...\n",
       "3332             0\n",
       "3333             0\n",
       "3334             0\n",
       "3335             0\n",
       "3336             0\n",
       "\n",
       "[3337 rows x 1 columns]"
      ]
     },
     "execution_count": 20,
     "metadata": {},
     "output_type": "execute_result"
    }
   ],
   "source": [
    "df[['RainTomorrow']]"
   ]
  },
  {
   "cell_type": "code",
   "execution_count": 21,
   "id": "acd7fe68",
   "metadata": {},
   "outputs": [
    {
     "data": {
      "text/plain": [
       "<AxesSubplot: >"
      ]
     },
     "execution_count": 21,
     "metadata": {},
     "output_type": "execute_result"
    },
    {
     "data": {
      "image/png": "[encoded data removed]",
      "text/plain": [
       "<Figure size 1080x1080 with 2 Axes>"
      ]
     },
     "metadata": {
      "needs_background": "light"
     },
     "output_type": "display_data"
    }
   ],
   "source": [
    "import seaborn as sns\n",
    "plt.figure(figsize=(15, 15))\n",
    "sns.heatmap(df.corr(),  cmap='Reds',annot=True)"
   ]
  },
  {
   "cell_type": "code",
   "execution_count": 22,
   "id": "42ebd1f0",
   "metadata": {},
   "outputs": [
    {
     "data": {
      "text/html": [
       "<div>\n",
       "<style scoped>\n",
       "    .dataframe tbody tr th:only-of-type {\n",
       "        vertical-align: middle;\n",
       "    }\n",
       "\n",
       "    .dataframe tbody tr th {\n",
       "        vertical-align: top;\n",
       "    }\n",
       "\n",
       "    .dataframe thead th {\n",
       "        text-align: right;\n",
       "    }\n",
       "</style>\n",
       "<table border=\"1\" class=\"dataframe\">\n",
       "  <thead>\n",
       "    <tr style=\"text-align: right;\">\n",
       "      <th></th>\n",
       "      <th>MinTemp</th>\n",
       "      <th>MaxTemp</th>\n",
       "      <th>Rainfall</th>\n",
       "      <th>Evaporation</th>\n",
       "      <th>Sunshine</th>\n",
       "      <th>Humidity9am</th>\n",
       "      <th>Humidity3pm</th>\n",
       "      <th>Pressure9am</th>\n",
       "      <th>Pressure3pm</th>\n",
       "      <th>Cloud9am</th>\n",
       "      <th>Cloud3pm</th>\n",
       "      <th>Temp9am</th>\n",
       "      <th>Temp3pm</th>\n",
       "      <th>RainTomorrow</th>\n",
       "      <th>RainToday_No</th>\n",
       "      <th>RainToday_Yes</th>\n",
       "      <th>Year</th>\n",
       "      <th>Month</th>\n",
       "      <th>Day</th>\n",
       "    </tr>\n",
       "  </thead>\n",
       "  <tbody>\n",
       "    <tr>\n",
       "      <th>count</th>\n",
       "      <td>3337.000000</td>\n",
       "      <td>3337.000000</td>\n",
       "      <td>3337.000000</td>\n",
       "      <td>3337.000000</td>\n",
       "      <td>3337.000000</td>\n",
       "      <td>3337.000000</td>\n",
       "      <td>3337.000000</td>\n",
       "      <td>3337.000000</td>\n",
       "      <td>3337.000000</td>\n",
       "      <td>3337.000000</td>\n",
       "      <td>3337.000000</td>\n",
       "      <td>3337.000000</td>\n",
       "      <td>3337.000000</td>\n",
       "      <td>3337.000000</td>\n",
       "      <td>3337.000000</td>\n",
       "      <td>3337.000000</td>\n",
       "      <td>3337.000000</td>\n",
       "      <td>3337.000000</td>\n",
       "      <td>3337.000000</td>\n",
       "    </tr>\n",
       "    <tr>\n",
       "      <th>mean</th>\n",
       "      <td>14.866497</td>\n",
       "      <td>23.006173</td>\n",
       "      <td>3.326820</td>\n",
       "      <td>5.172460</td>\n",
       "      <td>7.180911</td>\n",
       "      <td>68.172011</td>\n",
       "      <td>54.704525</td>\n",
       "      <td>1018.368445</td>\n",
       "      <td>1016.045967</td>\n",
       "      <td>4.482469</td>\n",
       "      <td>4.352113</td>\n",
       "      <td>17.822295</td>\n",
       "      <td>21.534252</td>\n",
       "      <td>0.259215</td>\n",
       "      <td>0.740186</td>\n",
       "      <td>0.259814</td>\n",
       "      <td>2012.300869</td>\n",
       "      <td>6.413545</td>\n",
       "      <td>15.705424</td>\n",
       "    </tr>\n",
       "    <tr>\n",
       "      <th>std</th>\n",
       "      <td>4.552422</td>\n",
       "      <td>4.496019</td>\n",
       "      <td>9.887531</td>\n",
       "      <td>2.770498</td>\n",
       "      <td>3.812163</td>\n",
       "      <td>15.104783</td>\n",
       "      <td>16.291748</td>\n",
       "      <td>7.023022</td>\n",
       "      <td>7.039433</td>\n",
       "      <td>2.607820</td>\n",
       "      <td>2.437914</td>\n",
       "      <td>4.896793</td>\n",
       "      <td>4.302129</td>\n",
       "      <td>0.438269</td>\n",
       "      <td>0.438598</td>\n",
       "      <td>0.438598</td>\n",
       "      <td>2.761933</td>\n",
       "      <td>3.397846</td>\n",
       "      <td>8.795802</td>\n",
       "    </tr>\n",
       "    <tr>\n",
       "      <th>min</th>\n",
       "      <td>4.300000</td>\n",
       "      <td>11.700000</td>\n",
       "      <td>0.000000</td>\n",
       "      <td>0.000000</td>\n",
       "      <td>0.000000</td>\n",
       "      <td>19.000000</td>\n",
       "      <td>10.000000</td>\n",
       "      <td>986.700000</td>\n",
       "      <td>989.800000</td>\n",
       "      <td>0.000000</td>\n",
       "      <td>0.000000</td>\n",
       "      <td>6.400000</td>\n",
       "      <td>10.200000</td>\n",
       "      <td>0.000000</td>\n",
       "      <td>0.000000</td>\n",
       "      <td>0.000000</td>\n",
       "      <td>2008.000000</td>\n",
       "      <td>1.000000</td>\n",
       "      <td>1.000000</td>\n",
       "    </tr>\n",
       "    <tr>\n",
       "      <th>25%</th>\n",
       "      <td>11.000000</td>\n",
       "      <td>19.600000</td>\n",
       "      <td>0.000000</td>\n",
       "      <td>3.200000</td>\n",
       "      <td>4.300000</td>\n",
       "      <td>58.000000</td>\n",
       "      <td>44.000000</td>\n",
       "      <td>1013.800000</td>\n",
       "      <td>1011.300000</td>\n",
       "      <td>2.000000</td>\n",
       "      <td>2.000000</td>\n",
       "      <td>13.800000</td>\n",
       "      <td>18.400000</td>\n",
       "      <td>0.000000</td>\n",
       "      <td>0.000000</td>\n",
       "      <td>0.000000</td>\n",
       "      <td>2010.000000</td>\n",
       "      <td>3.000000</td>\n",
       "      <td>8.000000</td>\n",
       "    </tr>\n",
       "    <tr>\n",
       "      <th>50%</th>\n",
       "      <td>14.900000</td>\n",
       "      <td>22.800000</td>\n",
       "      <td>0.000000</td>\n",
       "      <td>4.800000</td>\n",
       "      <td>8.300000</td>\n",
       "      <td>69.000000</td>\n",
       "      <td>56.000000</td>\n",
       "      <td>1018.600000</td>\n",
       "      <td>1016.300000</td>\n",
       "      <td>6.000000</td>\n",
       "      <td>5.000000</td>\n",
       "      <td>18.200000</td>\n",
       "      <td>21.300000</td>\n",
       "      <td>0.000000</td>\n",
       "      <td>1.000000</td>\n",
       "      <td>0.000000</td>\n",
       "      <td>2012.000000</td>\n",
       "      <td>6.000000</td>\n",
       "      <td>16.000000</td>\n",
       "    </tr>\n",
       "    <tr>\n",
       "      <th>75%</th>\n",
       "      <td>18.700000</td>\n",
       "      <td>26.000000</td>\n",
       "      <td>1.400000</td>\n",
       "      <td>7.000000</td>\n",
       "      <td>10.200000</td>\n",
       "      <td>80.000000</td>\n",
       "      <td>65.000000</td>\n",
       "      <td>1023.200000</td>\n",
       "      <td>1020.900000</td>\n",
       "      <td>7.000000</td>\n",
       "      <td>7.000000</td>\n",
       "      <td>21.700000</td>\n",
       "      <td>24.500000</td>\n",
       "      <td>1.000000</td>\n",
       "      <td>1.000000</td>\n",
       "      <td>1.000000</td>\n",
       "      <td>2015.000000</td>\n",
       "      <td>9.000000</td>\n",
       "      <td>23.000000</td>\n",
       "    </tr>\n",
       "    <tr>\n",
       "      <th>max</th>\n",
       "      <td>27.600000</td>\n",
       "      <td>45.800000</td>\n",
       "      <td>119.400000</td>\n",
       "      <td>18.400000</td>\n",
       "      <td>13.600000</td>\n",
       "      <td>100.000000</td>\n",
       "      <td>99.000000</td>\n",
       "      <td>1039.000000</td>\n",
       "      <td>1036.700000</td>\n",
       "      <td>9.000000</td>\n",
       "      <td>8.000000</td>\n",
       "      <td>36.500000</td>\n",
       "      <td>44.700000</td>\n",
       "      <td>1.000000</td>\n",
       "      <td>1.000000</td>\n",
       "      <td>1.000000</td>\n",
       "      <td>2017.000000</td>\n",
       "      <td>12.000000</td>\n",
       "      <td>31.000000</td>\n",
       "    </tr>\n",
       "  </tbody>\n",
       "</table>\n",
       "</div>"
      ],
      "text/plain": [
       "           MinTemp      MaxTemp     Rainfall  Evaporation     Sunshine  \\\n",
       "count  3337.000000  3337.000000  3337.000000  3337.000000  3337.000000   \n",
       "mean     14.866497    23.006173     3.326820     5.172460     7.180911   \n",
       "std       4.552422     4.496019     9.887531     2.770498     3.812163   \n",
       "min       4.300000    11.700000     0.000000     0.000000     0.000000   \n",
       "25%      11.000000    19.600000     0.000000     3.200000     4.300000   \n",
       "50%      14.900000    22.800000     0.000000     4.800000     8.300000   \n",
       "75%      18.700000    26.000000     1.400000     7.000000    10.200000   \n",
       "max      27.600000    45.800000   119.400000    18.400000    13.600000   \n",
       "\n",
       "       Humidity9am  Humidity3pm  Pressure9am  Pressure3pm     Cloud9am  \\\n",
       "count  3337.000000  3337.000000  3337.000000  3337.000000  3337.000000   \n",
       "mean     68.172011    54.704525  1018.368445  1016.045967     4.482469   \n",
       "std      15.104783    16.291748     7.023022     7.039433     2.607820   \n",
       "min      19.000000    10.000000   986.700000   989.800000     0.000000   \n",
       "25%      58.000000    44.000000  1013.800000  1011.300000     2.000000   \n",
       "50%      69.000000    56.000000  1018.600000  1016.300000     6.000000   \n",
       "75%      80.000000    65.000000  1023.200000  1020.900000     7.000000   \n",
       "max     100.000000    99.000000  1039.000000  1036.700000     9.000000   \n",
       "\n",
       "          Cloud3pm      Temp9am      Temp3pm  RainTomorrow  RainToday_No  \\\n",
       "count  3337.000000  3337.000000  3337.000000   3337.000000   3337.000000   \n",
       "mean      4.352113    17.822295    21.534252      0.259215      0.740186   \n",
       "std       2.437914     4.896793     4.302129      0.438269      0.438598   \n",
       "min       0.000000     6.400000    10.200000      0.000000      0.000000   \n",
       "25%       2.000000    13.800000    18.400000      0.000000      0.000000   \n",
       "50%       5.000000    18.200000    21.300000      0.000000      1.000000   \n",
       "75%       7.000000    21.700000    24.500000      1.000000      1.000000   \n",
       "max       8.000000    36.500000    44.700000      1.000000      1.000000   \n",
       "\n",
       "       RainToday_Yes         Year        Month          Day  \n",
       "count    3337.000000  3337.000000  3337.000000  3337.000000  \n",
       "mean        0.259814  2012.300869     6.413545    15.705424  \n",
       "std         0.438598     2.761933     3.397846     8.795802  \n",
       "min         0.000000  2008.000000     1.000000     1.000000  \n",
       "25%         0.000000  2010.000000     3.000000     8.000000  \n",
       "50%         0.000000  2012.000000     6.000000    16.000000  \n",
       "75%         1.000000  2015.000000     9.000000    23.000000  \n",
       "max         1.000000  2017.000000    12.000000    31.000000  "
      ]
     },
     "execution_count": 22,
     "metadata": {},
     "output_type": "execute_result"
    }
   ],
   "source": [
    "df.describe()"
   ]
  },
  {
   "cell_type": "markdown",
   "id": "8aac98a0",
   "metadata": {},
   "source": [
    "Now, let's divide the features(x) and the target variable(y).This allows for a clear distinction between the features used for prediction and the target variable being predicted."
   ]
  },
  {
   "cell_type": "code",
   "execution_count": 23,
   "id": "6a13c363",
   "metadata": {},
   "outputs": [],
   "source": [
    "# Creating features (X) and target variable (y)\n",
    "\n",
    "x = df.drop(columns='RainTomorrow', axis=1)\n",
    "y = df['RainTomorrow']"
   ]
  },
  {
   "cell_type": "markdown",
   "id": "02133cc1",
   "metadata": {},
   "source": [
    "x represents the independent variables or features. It is obtained by dropping the column labeled \"RainTomorrow\" along the columns (axis=1) from the DataFrame df. Therefore, x contains all the columns in df except the \"RainTomorrow\" column.\n",
    "\n",
    "y represents the dependent variable or the target variable. It is assigned the values in the \"RainTomorrow\" column of the DataFrame df. This is the variable we want to predict.\n"
   ]
  },
  {
   "cell_type": "markdown",
   "id": "e97def22",
   "metadata": {},
   "source": [
    "## Data Splitting"
   ]
  },
  {
   "cell_type": "markdown",
   "id": "8afb7965",
   "metadata": {},
   "source": [
    "Here,we are splitting the dataset (x for features and y for the target variable) into training and testing sets using the train_test_split function. The split is done with a test size of 20%, and a random state is set for reproducibility. This step is crucial for evaluating the model's performance on unseen data."
   ]
  },
  {
   "cell_type": "code",
   "execution_count": 34,
   "id": "0ef98519",
   "metadata": {},
   "outputs": [],
   "source": [
    "# Splitting the data into training and testing sets\n",
    "\n",
    "X_train, X_test, y_train, y_test = train_test_split(x, y, test_size=0.2, random_state=42)"
   ]
  },
  {
   "cell_type": "markdown",
   "id": "02bb2bc7",
   "metadata": {},
   "source": [
    "Let's quicky check the dimensions of the data after the train-test split."
   ]
  },
  {
   "cell_type": "code",
   "execution_count": 27,
   "id": "1fe75509",
   "metadata": {},
   "outputs": [
    {
     "name": "stdout",
     "output_type": "stream",
     "text": [
      "(2669, 18) (668, 18) (2669,) (668,)\n"
     ]
    }
   ],
   "source": [
    "#Displaying the shape of the training and test data\n",
    "\n",
    "print(X_train.shape,X_test.shape,y_train.shape,y_test.shape)"
   ]
  },
  {
   "cell_type": "markdown",
   "id": "288ca750",
   "metadata": {},
   "source": [
    "## Model Training"
   ]
  },
  {
   "cell_type": "markdown",
   "id": "f9565857",
   "metadata": {},
   "source": [
    "Let's initializes and fit several classification models of LogisticRegression(LR)), K-Nearest Neighbors Classifier(KNN), AdaBoost Classifier(ada),Decision Tree Classifier (dt), Random Forest Classifier (rf). Each model is trained on the training data (X_train and y_train)."
   ]
  },
  {
   "cell_type": "code",
   "execution_count": 32,
   "id": "ade7714c",
   "metadata": {},
   "outputs": [
    {
     "name": "stdout",
     "output_type": "stream",
     "text": [
      "KNN Accuracy Score:  0.7904191616766467\n",
      "Confusion Matrix for Decision Tree:\n",
      "[[429  55]\n",
      " [ 85  99]]\n"
     ]
    }
   ],
   "source": [
    "#fitting the KNN Classifier\n",
    "\n",
    "KNN = KNeighborsClassifier()\n",
    "KNN.fit(X_train, y_train)\n",
    "y_pred = KNN.predict(X_test)\n",
    "accuracy_knn= accuracy_score(y_test, y_pred)\n",
    "conf_matrix_knn = confusion_matrix(y_test, y_pred)\n",
    "\n",
    "# Printing the accuracy score and confusion matrix for the KNN (K-Nearest Neighbour)\n",
    "print('KNN Accuracy Score: ', accuracy_knn)\n",
    "print(\"Confusion Matrix for Decision Tree:\")\n",
    "print(conf_matrix_knn)"
   ]
  },
  {
   "cell_type": "code",
   "execution_count": 33,
   "id": "819bfbf2",
   "metadata": {},
   "outputs": [
    {
     "name": "stdout",
     "output_type": "stream",
     "text": [
      "Decision Tree Accuracy: 0.7994011976047904\n",
      "Confusion Matrix for Decision Tree:\n",
      "[[427  57]\n",
      " [ 77 107]]\n"
     ]
    }
   ],
   "source": [
    "#fitting the Decision Tree Classifier\n",
    "dt_classifier = DecisionTreeClassifier(criterion=\"entropy\", max_depth = 8)\n",
    "dt_classifier.fit(X_train, y_train)\n",
    "y_pred_dt = dt_classifier.predict(X_test)\n",
    "accuracy_dt = accuracy_score(y_test, y_pred_dt)\n",
    "conf_matrix_dt = confusion_matrix(y_test, y_pred_dt)\n",
    "\n",
    "# Printing the accuracy score and confusion matrix for the Decision Tree Classifier\n",
    "print(\"Decision Tree Accuracy:\", accuracy_dt)\n",
    "print(\"Confusion Matrix for Decision Tree:\")\n",
    "print(conf_matrix_dt)"
   ]
  },
  {
   "cell_type": "code",
   "execution_count": 35,
   "id": "9e9c8152",
   "metadata": {},
   "outputs": [
    {
     "name": "stdout",
     "output_type": "stream",
     "text": [
      "Logistic Regression Accuracy: 0.8173652694610778\n",
      "Confusion Matrix for Decision Tree:\n",
      "[[445  39]\n",
      " [ 83 101]]\n"
     ]
    }
   ],
   "source": [
    "#fitting the Logistic Regression\n",
    "LR = LogisticRegression(solver='liblinear')\n",
    "LR.fit(X_train,y_train)\n",
    "y_pred_lr = LR.predict(X_test)\n",
    "accuracy_lr = accuracy_score(y_test, y_pred_lr)\n",
    "conf_matrix_lr = confusion_matrix(y_test, y_pred_lr)\n",
    "\n",
    "# Printing the accuracy score and confusion matrix for the Logistic Regression\n",
    "print(\"Logistic Regression Accuracy:\", accuracy_lr)\n",
    "print(\"Confusion Matrix for Decision Tree:\")\n",
    "print(conf_matrix_lr)"
   ]
  },
  {
   "cell_type": "code",
   "execution_count": 43,
   "id": "c2444612",
   "metadata": {},
   "outputs": [
    {
     "name": "stdout",
     "output_type": "stream",
     "text": [
      "\n",
      "Bagging Accuracy: 0.8263473053892215\n",
      "Confusion Matrix for Bagging:\n",
      "[[447  37]\n",
      " [ 79 105]]\n"
     ]
    }
   ],
   "source": [
    "# Bagging with Decision Tree\n",
    "bagging_classifier = BaggingClassifier(base_estimator = DecisionTreeClassifier(random_state=42),\n",
    "                                       n_estimators=500, random_state=42)\n",
    "bagging_classifier.fit(X_train, y_train)\n",
    "y_pred_bagging = bagging_classifier.predict(X_test)\n",
    "accuracy_bagging = accuracy_score(y_test, y_pred_bagging)\n",
    "conf_matrix_bagging = confusion_matrix(y_test, y_pred_bagging)\n",
    "\n",
    "# Printing the accuracy score and confusion matrix for the Bagging with Decision Tree\n",
    "print(\"\\nBagging Accuracy:\", accuracy_bagging)\n",
    "print(\"Confusion Matrix for Bagging:\")\n",
    "print(conf_matrix_bagging)"
   ]
  },
  {
   "cell_type": "code",
   "execution_count": 37,
   "id": "9f9d8661",
   "metadata": {},
   "outputs": [
    {
     "name": "stdout",
     "output_type": "stream",
     "text": [
      "\n",
      "AdaBoost Accuracy: 0.7619760479041916\n",
      "Confusion Matrix for AdaBoost:\n",
      "[[403  81]\n",
      " [ 78 106]]\n"
     ]
    }
   ],
   "source": [
    "# Boosting with Decision Tree (AdaBoost)\n",
    "adaboost_classifier = AdaBoostClassifier(base_estimator = DecisionTreeClassifier(random_state=42),\n",
    "                                         n_estimators=50, random_state=42)\n",
    "adaboost_classifier.fit(X_train, y_train)\n",
    "y_pred_adaboost = adaboost_classifier.predict(X_test)\n",
    "accuracy_adaboost = accuracy_score(y_test, y_pred_adaboost)\n",
    "conf_matrix_adaboost = confusion_matrix(y_test, y_pred_adaboost)\n",
    "\n",
    "# Printing the accuracy score and confusion matrix for the Adaboost\n",
    "print(\"\\nAdaBoost Accuracy:\", accuracy_adaboost)\n",
    "print(\"Confusion Matrix for AdaBoost:\")\n",
    "print(conf_matrix_adaboost)"
   ]
  },
  {
   "cell_type": "code",
   "execution_count": 52,
   "id": "4b84e186",
   "metadata": {},
   "outputs": [
    {
     "name": "stdout",
     "output_type": "stream",
     "text": [
      "\n",
      "Random Forest Accuracy: 0.8323353293413174\n",
      "Confusion Matrix for Random Forest:\n",
      "[[453  31]\n",
      " [ 81 103]]\n"
     ]
    }
   ],
   "source": [
    "# Random Forest Classifier\n",
    "rf_classifier = RandomForestClassifier(random_state=42)\n",
    "rf_classifier.fit(X_train, y_train)\n",
    "y_pred_rf = rf_classifier.predict(X_test)\n",
    "accuracy_rf = accuracy_score(y_test, y_pred_rf)\n",
    "conf_matrix_rf = confusion_matrix(y_test, y_pred_rf)\n",
    "\n",
    "# Printing the accuracy score and confusion matrix for the RandomForest Classifier\n",
    "print(\"\\nRandom Forest Accuracy:\", accuracy_rf)\n",
    "print(\"Confusion Matrix for Random Forest:\")\n",
    "print(conf_matrix_rf)"
   ]
  },
  {
   "cell_type": "code",
   "execution_count": 72,
   "id": "4ed8306e",
   "metadata": {},
   "outputs": [
    {
     "name": "stdout",
     "output_type": "stream",
     "text": [
      "Gradient Boosting Classifier Accuracy: 0.8248502994011976\n",
      "Confusion Matrix:\n",
      "[[438  46]\n",
      " [ 71 113]]\n"
     ]
    }
   ],
   "source": [
    "#Gradient Boosting Classifier model \n",
    "gb_classifier = GradientBoostingClassifier(n_estimators=100, learning_rate=0.5, max_depth=5, random_state=42)\n",
    "gb_classifier.fit(X_train, y_train)\n",
    "y_pred = gb_classifier.predict(X_test)\n",
    "\n",
    "# Evaluate the model\n",
    "accuracy_gbm = accuracy_score(y_test, y_pred)\n",
    "conf_matrix = confusion_matrix(y_test, y_pred)\n",
    "\n",
    "# Printing the accuracy score and confusion matrix for the Gradient Boosting Classifier\n",
    "print('Gradient Boosting Classifier Accuracy:', accuracy)\n",
    "print('Confusion Matrix:')\n",
    "print(conf_matrix)"
   ]
  },
  {
   "cell_type": "markdown",
   "id": "46fdfa26",
   "metadata": {},
   "source": [
    "## Model Evaluation"
   ]
  },
  {
   "cell_type": "markdown",
   "id": "a32b4f81",
   "metadata": {},
   "source": [
    "Now, I'll be creating a Pandas DataFrame named Report that summarizes the accuracy scores of various classification algorithms."
   ]
  },
  {
   "cell_type": "code",
   "execution_count": 73,
   "id": "e5a7b912",
   "metadata": {},
   "outputs": [
    {
     "data": {
      "text/html": [
       "<div>\n",
       "<style scoped>\n",
       "    .dataframe tbody tr th:only-of-type {\n",
       "        vertical-align: middle;\n",
       "    }\n",
       "\n",
       "    .dataframe tbody tr th {\n",
       "        vertical-align: top;\n",
       "    }\n",
       "\n",
       "    .dataframe thead th {\n",
       "        text-align: right;\n",
       "    }\n",
       "</style>\n",
       "<table border=\"1\" class=\"dataframe\">\n",
       "  <thead>\n",
       "    <tr style=\"text-align: right;\">\n",
       "      <th></th>\n",
       "      <th>Classification Algorithm</th>\n",
       "      <th>Accuracy Score</th>\n",
       "    </tr>\n",
       "  </thead>\n",
       "  <tbody>\n",
       "    <tr>\n",
       "      <th>0</th>\n",
       "      <td>KNN, K=4</td>\n",
       "      <td>0.790419</td>\n",
       "    </tr>\n",
       "    <tr>\n",
       "      <th>1</th>\n",
       "      <td>Decision Tree</td>\n",
       "      <td>0.799401</td>\n",
       "    </tr>\n",
       "    <tr>\n",
       "      <th>2</th>\n",
       "      <td>LogisticRegression</td>\n",
       "      <td>0.817365</td>\n",
       "    </tr>\n",
       "    <tr>\n",
       "      <th>3</th>\n",
       "      <td>bagging_classifier</td>\n",
       "      <td>0.826347</td>\n",
       "    </tr>\n",
       "    <tr>\n",
       "      <th>4</th>\n",
       "      <td>AdaBoostClassifier</td>\n",
       "      <td>0.761976</td>\n",
       "    </tr>\n",
       "    <tr>\n",
       "      <th>5</th>\n",
       "      <td>RandomForestClassifier</td>\n",
       "      <td>0.832335</td>\n",
       "    </tr>\n",
       "    <tr>\n",
       "      <th>6</th>\n",
       "      <td>GradientBoostingClassifier</td>\n",
       "      <td>0.824850</td>\n",
       "    </tr>\n",
       "  </tbody>\n",
       "</table>\n",
       "</div>"
      ],
      "text/plain": [
       "     Classification Algorithm  Accuracy Score\n",
       "0                    KNN, K=4        0.790419\n",
       "1               Decision Tree        0.799401\n",
       "2          LogisticRegression        0.817365\n",
       "3          bagging_classifier        0.826347\n",
       "4          AdaBoostClassifier        0.761976\n",
       "5      RandomForestClassifier        0.832335\n",
       "6  GradientBoostingClassifier        0.824850"
      ]
     },
     "execution_count": 73,
     "metadata": {},
     "output_type": "execute_result"
    }
   ],
   "source": [
    "Report = {'Classification Algorithm': ['KNN, K=4', 'Decision Tree',  'LogisticRegression','bagging_classifier', 'AdaBoostClassifier', 'RandomForestClassifier', 'GradientBoostingClassifier'],\n",
    "          'Accuracy Score': [accuracy_knn, accuracy_dt, accuracy_lr, accuracy_bagging, accuracy_adaboost, accuracy_rf, accuracy_gbm]}\n",
    "Report = pd.DataFrame(Report)\n",
    "Report"
   ]
  },
  {
   "cell_type": "markdown",
   "id": "f480138b",
   "metadata": {},
   "source": [
    "Random Forest Accuracy has the highest Accuracy score i.e 83.23%\n",
    "This is the proportion of correctly predicted instances out of the total instances.\n",
    "\n",
    "True Negatives (TN): 453 instances were correctly predicted as not raining.\n",
    "False Positives (FP): 31 instances were predicted as raining when they were not.\n",
    "False Negatives (FN): 81 instances were predicted as not raining when they were.\n",
    "True Positives (TP): 103 instances were correctly predicted as raining.\n",
    "These metrics provide a detailed understanding of the model's performance, especially in terms of correctly identifying instances with and without rainfall.\n"
   ]
  },
  {
   "cell_type": "markdown",
   "id": "8bf54da1",
   "metadata": {},
   "source": [
    "An \"importance\" value is given to each feature. These values can be used to interpret the results given."
   ]
  },
  {
   "cell_type": "code",
   "execution_count": 53,
   "id": "722ffc4a",
   "metadata": {},
   "outputs": [
    {
     "data": {
      "text/plain": [
       "array([0.04751461, 0.05207519, 0.06481856, 0.04430157, 0.15681119,\n",
       "       0.06147249, 0.1598472 , 0.04875563, 0.04902791, 0.03026279,\n",
       "       0.05780975, 0.04497055, 0.0556157 , 0.01462822, 0.01339158,\n",
       "       0.02871248, 0.02792862, 0.04205597])"
      ]
     },
     "execution_count": 53,
     "metadata": {},
     "output_type": "execute_result"
    }
   ],
   "source": [
    "rf_classifier.feature_importances_"
   ]
  },
  {
   "cell_type": "markdown",
   "id": "8064b7a7",
   "metadata": {},
   "source": [
    "Let's turn this into a dataframe and visualize the most important features."
   ]
  },
  {
   "cell_type": "code",
   "execution_count": 55,
   "id": "19cdf65c",
   "metadata": {},
   "outputs": [],
   "source": [
    "importance_df = pd.DataFrame({\n",
    "    'feature': X_train.columns,\n",
    "    'importance': rf_classifier.feature_importances_\n",
    "}).sort_values('importance', ascending=False)"
   ]
  },
  {
   "cell_type": "code",
   "execution_count": 57,
   "id": "027331cd",
   "metadata": {},
   "outputs": [
    {
     "data": {
      "text/html": [
       "<div>\n",
       "<style scoped>\n",
       "    .dataframe tbody tr th:only-of-type {\n",
       "        vertical-align: middle;\n",
       "    }\n",
       "\n",
       "    .dataframe tbody tr th {\n",
       "        vertical-align: top;\n",
       "    }\n",
       "\n",
       "    .dataframe thead th {\n",
       "        text-align: right;\n",
       "    }\n",
       "</style>\n",
       "<table border=\"1\" class=\"dataframe\">\n",
       "  <thead>\n",
       "    <tr style=\"text-align: right;\">\n",
       "      <th></th>\n",
       "      <th>feature</th>\n",
       "      <th>importance</th>\n",
       "    </tr>\n",
       "  </thead>\n",
       "  <tbody>\n",
       "    <tr>\n",
       "      <th>6</th>\n",
       "      <td>Humidity3pm</td>\n",
       "      <td>0.159847</td>\n",
       "    </tr>\n",
       "    <tr>\n",
       "      <th>4</th>\n",
       "      <td>Sunshine</td>\n",
       "      <td>0.156811</td>\n",
       "    </tr>\n",
       "    <tr>\n",
       "      <th>2</th>\n",
       "      <td>Rainfall</td>\n",
       "      <td>0.064819</td>\n",
       "    </tr>\n",
       "    <tr>\n",
       "      <th>5</th>\n",
       "      <td>Humidity9am</td>\n",
       "      <td>0.061472</td>\n",
       "    </tr>\n",
       "    <tr>\n",
       "      <th>10</th>\n",
       "      <td>Cloud3pm</td>\n",
       "      <td>0.057810</td>\n",
       "    </tr>\n",
       "    <tr>\n",
       "      <th>12</th>\n",
       "      <td>Temp3pm</td>\n",
       "      <td>0.055616</td>\n",
       "    </tr>\n",
       "    <tr>\n",
       "      <th>1</th>\n",
       "      <td>MaxTemp</td>\n",
       "      <td>0.052075</td>\n",
       "    </tr>\n",
       "    <tr>\n",
       "      <th>8</th>\n",
       "      <td>Pressure3pm</td>\n",
       "      <td>0.049028</td>\n",
       "    </tr>\n",
       "    <tr>\n",
       "      <th>7</th>\n",
       "      <td>Pressure9am</td>\n",
       "      <td>0.048756</td>\n",
       "    </tr>\n",
       "    <tr>\n",
       "      <th>0</th>\n",
       "      <td>MinTemp</td>\n",
       "      <td>0.047515</td>\n",
       "    </tr>\n",
       "    <tr>\n",
       "      <th>11</th>\n",
       "      <td>Temp9am</td>\n",
       "      <td>0.044971</td>\n",
       "    </tr>\n",
       "    <tr>\n",
       "      <th>3</th>\n",
       "      <td>Evaporation</td>\n",
       "      <td>0.044302</td>\n",
       "    </tr>\n",
       "    <tr>\n",
       "      <th>17</th>\n",
       "      <td>Day</td>\n",
       "      <td>0.042056</td>\n",
       "    </tr>\n",
       "    <tr>\n",
       "      <th>9</th>\n",
       "      <td>Cloud9am</td>\n",
       "      <td>0.030263</td>\n",
       "    </tr>\n",
       "    <tr>\n",
       "      <th>15</th>\n",
       "      <td>Year</td>\n",
       "      <td>0.028712</td>\n",
       "    </tr>\n",
       "    <tr>\n",
       "      <th>16</th>\n",
       "      <td>Month</td>\n",
       "      <td>0.027929</td>\n",
       "    </tr>\n",
       "    <tr>\n",
       "      <th>13</th>\n",
       "      <td>RainToday_No</td>\n",
       "      <td>0.014628</td>\n",
       "    </tr>\n",
       "    <tr>\n",
       "      <th>14</th>\n",
       "      <td>RainToday_Yes</td>\n",
       "      <td>0.013392</td>\n",
       "    </tr>\n",
       "  </tbody>\n",
       "</table>\n",
       "</div>"
      ],
      "text/plain": [
       "          feature  importance\n",
       "6     Humidity3pm    0.159847\n",
       "4        Sunshine    0.156811\n",
       "2        Rainfall    0.064819\n",
       "5     Humidity9am    0.061472\n",
       "10       Cloud3pm    0.057810\n",
       "12        Temp3pm    0.055616\n",
       "1         MaxTemp    0.052075\n",
       "8     Pressure3pm    0.049028\n",
       "7     Pressure9am    0.048756\n",
       "0         MinTemp    0.047515\n",
       "11        Temp9am    0.044971\n",
       "3     Evaporation    0.044302\n",
       "17            Day    0.042056\n",
       "9        Cloud9am    0.030263\n",
       "15           Year    0.028712\n",
       "16          Month    0.027929\n",
       "13   RainToday_No    0.014628\n",
       "14  RainToday_Yes    0.013392"
      ]
     },
     "execution_count": 57,
     "metadata": {},
     "output_type": "execute_result"
    }
   ],
   "source": [
    "importance_df"
   ]
  },
  {
   "cell_type": "markdown",
   "id": "5ebdedec",
   "metadata": {},
   "source": [
    "Now lets see which feature is given the most importance."
   ]
  },
  {
   "cell_type": "code",
   "execution_count": 58,
   "id": "64459a2b",
   "metadata": {},
   "outputs": [
    {
     "data": {
      "image/png": "[encoded data removed]",
      "text/plain": [
       "<Figure size 432x288 with 1 Axes>"
      ]
     },
     "metadata": {
      "needs_background": "light"
     },
     "output_type": "display_data"
    }
   ],
   "source": [
    "plt.title('Feature Importance')\n",
    "sns.barplot(data=importance_df.head(10), x='importance', y='feature');"
   ]
  },
  {
   "cell_type": "markdown",
   "id": "3b9c0998",
   "metadata": {},
   "source": [
    "# Questions"
   ]
  },
  {
   "cell_type": "markdown",
   "id": "84bf0a43",
   "metadata": {},
   "source": [
    "#### 1. Your views about the problem statement?\n",
    "\n",
    "This is a Classification Problem where we are tasked with constructing machine learning model to predict rainfall based on meteorological features. The objective is to build a model using various classification models that can predict rainfall. The dataset includes various weather-related parameters such as temperature, humidity, and pressure.The use of different classification algorithms, such as K-Nearest Neighbors, Decision Tree, Logistic Regression, Bagging, AdaBoost, and Random Forest, along with hyperparameter tuning, showcases a comprehensive model selection process.  "
   ]
  },
  {
   "cell_type": "markdown",
   "id": "af4f9879",
   "metadata": {},
   "source": [
    "#### 2. What will be your approach to solving this task?\n",
    "1.To approach this task, I would begin by importing essential Python libraries such as pandas, numpy, scikit-learn, and matplotlib or seaborn for comprehensive data manipulation, analysis, and visualization. If necessary, I would install additional libraries. Following this, I'd load the dataset, assuming it's in an Excel (xlsx) file format, using the `read_excel` function from pandas to create a DataFrame. Subsequently, I'd conduct an initial exploration of the data using functions like `head()`, `info()`, and `describe()` to understand its structure, data types, and summary statistics.\n",
    "\n",
    "2.After the initial exploration, I'd address potential duplicate values and handle missing data by either removing or imputing values based on the nature of the missing data. This step is crucial to ensure the dataset's cleanliness and suitability for modeling.\n",
    "\n",
    "3.For feature engineering, I might derive additional features from the 'Date' column, such as year, month, and day, to capture temporal patterns. Additionally, I'd convert categorical variables into numerical format, potentially utilizing one-hot encoding. Specifically, for the 'RainToday' column, I'd use the `get_dummies` function for one-hot encoding. Furthermore, I'd convert the 'RainTomorrow' column into a binary format, indicating whether or not rain is predicted, to facilitate the modeling process\n",
    "\n",
    "4.Following preprocessing, I'd split the dataset into training and testing sets using scikit-learn's `train_test_split` function. This step enables me to train the model on one subset and evaluate its performance on another, ensuring the model's ability to generalize to unseen data.\n",
    "\n",
    "5.Moving on to model building, I would experiment with diverse classification algorithms such as K-Nearest Neighbors, Decision Tree, Logistic Regression, Bagging, AdaBoost, and Random Forest. Scikit-learn would be utilized to train these models on the training set.\n",
    "\n",
    "6.Finally, I'd assess the models using various metrics, including accuracy, precision, recall, and F1-score. Based on the results, I'd select the best-performing model and conduct a detailed analysis of its predictions using confusion matrices.\n",
    "\n",
    "7.Additionally, I would investigate the impact of different missing value imputation strategies, such as filling missing values with the median, forward fill (ffill), and backward fill (bfill). This iterative process allows me to discern which imputation strategy contributes to the superior performance of the models."
   ]
  },
  {
   "cell_type": "markdown",
   "id": "c15c0578",
   "metadata": {},
   "source": [
    "#### 3. What were the available ML model options you had to perform this task?\n",
    "\n",
    "For this task, I had several machine learning models to choose from. These included K-Nearest Neighbors (KNN), Decision Tree, Logistic Regression, Bagging Classifier, AdaBoost Classifier, and Random Forest Classifier. Each of these models has its own strengths and weaknesses, and the goal was to try different models and determine which one performs the best for predicting rainfall based on the given dataset."
   ]
  },
  {
   "cell_type": "markdown",
   "id": "362087cc",
   "metadata": {},
   "source": [
    "#### 4. Which model’s performance is best and what could be the possible reason for that?\n",
    "\n",
    "The Random Forest model showed the best performance among all the models. One possible reason for this could be that Random Forest is good at handling complex relationships in the data and tends to perform well in a variety of scenarios. It combines multiple decision trees, which individually might have limitations, but together they create a more robust and accurate prediction. This model is effective in capturing patterns in the data and making reliable predictions about whether it will rain or not."
   ]
  },
  {
   "cell_type": "markdown",
   "id": "ac04f8cc",
   "metadata": {},
   "source": [
    "#### 5. What steps can you take to improve this selected model’s performance even further?\n",
    "\n",
    "To further improve the effectiveness of the selected Random Forest model, we can take the following measures:\n",
    "\n",
    "1. **Handling Missing Values with SimpleImputer:**\n",
    "   - Implement SimpleImputer to deal with any remaining missing values in the dataset, guaranteeing that all data points are considered during model training.\n",
    "\n",
    "2. **Scaling Numeric Features using MinMaxScaler:**\n",
    "   - Employ MinMaxScaler to normalize numeric features. This is particularly crucial for Random Forest, especially when features have varying scales. Normalizing ensures that all features have an equal contribution to the model.\n",
    "\n",
    "3. **Exploring Feature Importance:**\n",
    "   - Investigate the feature importance as indicated by the trained Random Forest model. Identify and prioritize the most impactful features. This understanding can guide decisions on feature selection or engineering, potentially enhancing model accuracy.\n",
    "\n",
    "4. **Further Hyperparameter Tuning:**\n",
    "   - Delve deeper into hyperparameter tuning, specifically adjusting parameters like max_features, min_samples_split, min_samples_leaf, bootstrap, and max_samples. Fine-tuning these parameters can significantly influence the model's overall performance.\n",
    "\n",
    "5. **Making Predictions on New Dataset:**\n",
    "   - Assess the model's performance on entirely new or unseen data. This evaluation ensures that the model generalizes effectively and is not excessively tailored to the training data.\n",
    "\n",
    "By methodically implementing these strategies, we can refine the Random Forest model, tapping into its full potential for accurate rainfall prediction. Each of these approaches addresses specific facets of model enhancement, collectively contributing to an improved predictive capability."
   ]
  },
  {
   "cell_type": "code",
   "execution_count": null,
   "id": "08459355",
   "metadata": {},
   "outputs": [],
   "source": []
  }
 ],
 "metadata": {
  "kernelspec": {
   "display_name": "Python 3 (ipykernel)",
   "language": "python",
   "name": "python3"
  },
  "language_info": {
   "codemirror_mode": {
    "name": "ipython",
    "version": 3
   },
   "file_extension": ".py",
   "mimetype": "text/x-python",
   "name": "python",
   "nbconvert_exporter": "python",
   "pygments_lexer": "ipython3",
   "version": "3.9.12"
  }
 },
 "nbformat": 4,
 "nbformat_minor": 5
}
